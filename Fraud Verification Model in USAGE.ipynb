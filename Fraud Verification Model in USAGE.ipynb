{
 "cells": [
  {
   "cell_type": "code",
   "execution_count": 1,
   "metadata": {},
   "outputs": [
    {
     "data": {
      "text/plain": [
       "array([0], dtype=int64)"
      ]
     },
     "execution_count": 1,
     "metadata": {},
     "output_type": "execute_result"
    }
   ],
   "source": [
    "from joblib import dump,load\n",
    "import numpy as np\n",
    "model = load('Credit.joblib')\n",
    "features =np.array([[-0.25559   , -2.05677659,  1.14557296, -0.28316543, -0.01985595,\n",
    "       -0.61740281, -0.3589117 , -0.35120626,  1.10558556,  0.48752418,\n",
    "        1.12546684,  0.46228245,  1.59458794,  0.78111182,  0.1956128 ,\n",
    "       -1.16039419,  0.16260039,  0.00843909, -0.06619441,  0.87508112,\n",
    "       -0.01642973, -0.65642505, -0.31593945,  0.39952418,  0.1100283 ,\n",
    "        0.90417637,  0.50892484,  0.71409007, -0.97924   , -0.24602857]])\n",
    "model.predict(features)"
   ]
  },
  {
   "cell_type": "code",
   "execution_count": null,
   "metadata": {},
   "outputs": [],
   "source": []
  }
 ],
 "metadata": {
  "kernelspec": {
   "display_name": "Python 3",
   "language": "python",
   "name": "python3"
  },
  "language_info": {
   "codemirror_mode": {
    "name": "ipython",
    "version": 3
   },
   "file_extension": ".py",
   "mimetype": "text/x-python",
   "name": "python",
   "nbconvert_exporter": "python",
   "pygments_lexer": "ipython3",
   "version": "3.7.6"
  }
 },
 "nbformat": 4,
 "nbformat_minor": 4
}
